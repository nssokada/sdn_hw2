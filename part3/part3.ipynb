{
 "cells": [
  {
   "cell_type": "code",
   "execution_count": 1,
   "id": "52f77038",
   "metadata": {},
   "outputs": [],
   "source": [
    "#import packages\n",
    "import pandas as pd\n",
    "import os\n",
    "import pandas as pd\n",
    "import numpy as np\n",
    "import matplotlib.pyplot as plt\n",
    "import seaborn as sns"
   ]
  },
  {
   "cell_type": "code",
   "execution_count": 2,
   "id": "bebca4d4",
   "metadata": {},
   "outputs": [
    {
     "name": "stderr",
     "output_type": "stream",
     "text": [
      "/opt/anaconda3/envs/stan_env/lib/python3.8/site-packages/tqdm/auto.py:21: TqdmWarning: IProgress not found. Please update jupyter and ipywidgets. See https://ipywidgets.readthedocs.io/en/stable/user_install.html\n",
      "  from .autonotebook import tqdm as notebook_tqdm\n"
     ]
    }
   ],
   "source": [
    "#modify import path\n",
    "import sys\n",
    "sys.path.append('../our_analysis')\n",
    "\n",
    "#import our code\n",
    "from hybrid_mle import fit_hybrid_mixed_model_drifting\n"
   ]
  },
  {
   "cell_type": "code",
   "execution_count": 3,
   "id": "5f712d49",
   "metadata": {},
   "outputs": [],
   "source": [
    "#Set WD\n",
    "notebook_dir = os.getcwd()"
   ]
  },
  {
   "cell_type": "code",
   "execution_count": 4,
   "id": "4ef22e40",
   "metadata": {},
   "outputs": [],
   "source": [
    "#load dataset\n",
    "df = pd.read_csv(\"../dataset/all_subjects.csv\") #our dataset\n",
    "# df = pd.read_csv(\"../dataset/beh_noslow.csv\") #i'm fitting to replicate the paper.\n",
    "\n",
    "#Let's remove all of the slow trials for the df\n",
    "df = df[df['slow']==0]\n",
    "# We need to cast the choice data to an int\n",
    "df['choice1'] = df['choice1'].astype(int)\n",
    "df['choice2'] = df['choice2'].astype(int)\n",
    "df['final_state'] = df['final_state'].astype(int)\n",
    "\n",
    "\n",
    "# ## some notes about using all_subjects:\n",
    "# # If you get errors you may need to rename the fields of allsubjects becuase the original paper dataset (beh_noslow.csv) and our dataset (all_subjects) have slightly different capitalizations of headers.\n",
    "# # If you get additional errors filter out the NaNs from the df before sending them to the processing function. \n",
    "\n",
    "# #MLE takes time the first simple run was quite fast (~10min), but expect longer depending on your CPU and the complexity of the model you're running\n",
    "\n",
    "story_trials = df[df[\"condition\"] == \"story\"]\n",
    "abstract_trials=df[df[\"condition\"] == \"abstract\"]"
   ]
  },
  {
   "cell_type": "code",
   "execution_count": null,
   "id": "cc213176",
   "metadata": {},
   "outputs": [],
   "source": [
    "story_results_df, params, logli_story_basic = fit_hybrid_mixed_model_drifting(\n",
    "    data_df=story_trials,\n",
    "    stan_file=\"../our_analysis/driftingWeight_mle.stan\",\n",
    "    output_file=\"story_params_drift.csv\"\n",
    ")\n",
    "\n",
    "abstract_results_df, params, logli_abstract_basic = fit_hybrid_mixed_model_drifting(\n",
    "    data_df=abstract_trials,\n",
    "    stan_file=\"../our_analysis/driftingWeight_mle.stan\",\n",
    "    output_file=\"abstract_params_drift.csv\"\n",
    ")"
   ]
  },
  {
   "cell_type": "code",
   "execution_count": 6,
   "id": "4da36c4a",
   "metadata": {},
   "outputs": [],
   "source": [
    "#store the results in a clean table we can use for the assignment\n",
    "results =[] \n",
    "\n",
    "for df in [story_results_df, abstract_results_df]:\n",
    "    params=df.iloc[0].to_dict()\n",
    "    results.append(params)\n",
    "\n",
    "results[0]['logli']=logli_story_basic\n",
    "results[1]['logli']=logli_abstract_basic\n",
    "\n",
    "results_df = pd.DataFrame(results)\n",
    "results_df.head()\n",
    "## we should probably just save this as a csv here. It has the participant field which we can drop in later formatting.\n",
    "results_df.to_csv(\"hybrid_model_params_driftingW.csv\", index=False)\n"
   ]
  }
 ],
 "metadata": {
  "kernelspec": {
   "display_name": "stan_env",
   "language": "python",
   "name": "python3"
  },
  "language_info": {
   "codemirror_mode": {
    "name": "ipython",
    "version": 3
   },
   "file_extension": ".py",
   "mimetype": "text/x-python",
   "name": "python",
   "nbconvert_exporter": "python",
   "pygments_lexer": "ipython3",
   "version": "3.8.13"
  }
 },
 "nbformat": 4,
 "nbformat_minor": 5
}
