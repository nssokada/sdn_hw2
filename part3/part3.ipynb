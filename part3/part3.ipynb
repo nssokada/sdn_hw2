{
 "cells": [
  {
   "cell_type": "code",
   "execution_count": null,
   "id": "52f77038",
   "metadata": {},
   "outputs": [],
   "source": [
    "#import packages\n",
    "import pandas as pd\n",
    "import os\n",
    "import pandas as pd\n",
    "import numpy as np\n",
    "import matplotlib.pyplot as plt\n",
    "import seaborn as sns"
   ]
  },
  {
   "cell_type": "code",
   "execution_count": null,
   "id": "bebca4d4",
   "metadata": {},
   "outputs": [],
   "source": [
    "#modify import path\n",
    "import sys\n",
    "sys.path.append('../our_analysis')\n",
    "\n",
    "#import our code\n",
    "from hybrid_mle import fit_hybrid_mixed_model, fit_hybrid_mixed_dynamic_model, fit_hybrid_mixed_fixedAlpha_model, fit_hybrid_mixed_fixedBeta_model\n"
   ]
  },
  {
   "cell_type": "code",
   "execution_count": null,
   "id": "5f712d49",
   "metadata": {},
   "outputs": [],
   "source": [
    "#Set WD\n",
    "notebook_dir = os.getcwd()"
   ]
  },
  {
   "cell_type": "code",
   "execution_count": null,
   "id": "4ef22e40",
   "metadata": {},
   "outputs": [],
   "source": [
    "#load dataset\n",
    "df = pd.read_csv(\"../dataset/all_subjects.csv\") #our dataset\n",
    "# df = pd.read_csv(\"../dataset/beh_noslow.csv\") #i'm fitting to replicate the paper.\n",
    "\n",
    "#Let's remove all of the slow trials for the df\n",
    "df = df[df['slow']==0]\n",
    "# We need to cast the choice data to an int\n",
    "df['choice1'] = df['choice1'].astype(int)\n",
    "df['choice2'] = df['choice2'].astype(int)\n",
    "df['final_state'] = df['final_state'].astype(int)\n",
    "\n",
    "\n",
    "# ## some notes about using all_subjects:\n",
    "# # If you get errors you may need to rename the fields of allsubjects becuase the original paper dataset (beh_noslow.csv) and our dataset (all_subjects) have slightly different capitalizations of headers.\n",
    "# # If you get additional errors filter out the NaNs from the df before sending them to the processing function. \n",
    "\n",
    "# #MLE takes time the first simple run was quite fast (~10min), but expect longer depending on your CPU and the complexity of the model you're running\n",
    "\n",
    "story_trials = df[df[\"condition\"] == \"story\"]\n",
    "abstract_trials=df[df[\"condition\"] == \"abstract\"]"
   ]
  },
  {
   "cell_type": "code",
   "execution_count": null,
   "id": "cc213176",
   "metadata": {},
   "outputs": [],
   "source": [
    "story_results_df, params, logli_story_basic = fit_hybrid_mixed_model(\n",
    "    data_df=story_trials,\n",
    "    stan_file=\"../our_analysis/driftingWeight_mle.stan\",\n",
    "    output_file=\"story_params.csv\"\n",
    ")\n",
    "\n",
    "abstract_results_df, params, logli_abstract_basic = fit_hybrid_mixed_model(\n",
    "    data_df=abstract_trials,\n",
    "    stan_file=\"../our_analysis/driftingWeight_mle.stan\",\n",
    "    output_file=\"abstract_params.csv\"\n",
    ")"
   ]
  }
 ],
 "metadata": {
  "language_info": {
   "name": "python"
  }
 },
 "nbformat": 4,
 "nbformat_minor": 5
}
