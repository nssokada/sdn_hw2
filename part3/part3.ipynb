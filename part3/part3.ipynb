{
 "cells": [
  {
   "cell_type": "code",
   "execution_count": 3,
   "id": "52f77038",
   "metadata": {},
   "outputs": [],
   "source": [
    "#import packages\n",
    "import pandas as pd\n",
    "import os\n",
    "import pandas as pd\n",
    "import numpy as np\n",
    "import matplotlib.pyplot as plt\n",
    "import seaborn as sns"
   ]
  },
  {
   "cell_type": "code",
   "execution_count": null,
   "id": "bebca4d4",
   "metadata": {},
   "outputs": [],
   "source": [
    "#modify import path\n",
    "import sys\n",
    "sys.path.append('../our_analysis')\n",
    "\n",
    "#import our code\n",
    "from hybrid_mle import fit_hybrid_mixed_model_drifting\n"
   ]
  },
  {
   "cell_type": "code",
   "execution_count": 5,
   "id": "5f712d49",
   "metadata": {},
   "outputs": [],
   "source": [
    "#Set WD\n",
    "notebook_dir = os.getcwd()"
   ]
  },
  {
   "cell_type": "code",
   "execution_count": null,
   "id": "4ef22e40",
   "metadata": {},
   "outputs": [],
   "source": [
    "#load dataset\n",
    "df = pd.read_csv(\"../dataset/all_subjects.csv\") #our dataset\n",
    "\n",
    "#Let's remove all of the slow trials for the df\n",
    "df = df[df['slow']==0]\n",
    "# We need to cast the choice data to an int\n",
    "df['choice1'] = df['choice1'].astype(int)\n",
    "df['choice2'] = df['choice2'].astype(int)\n",
    "df['final_state'] = df['final_state'].astype(int)\n",
    "\n",
    "\n",
    "story_trials = df[df[\"condition\"] == \"story\"]\n",
    "abstract_trials=df[df[\"condition\"] == \"abstract\"]"
   ]
  },
  {
   "cell_type": "code",
   "execution_count": null,
   "id": "cc213176",
   "metadata": {},
   "outputs": [],
   "source": [
    "story_results_df, params, logli_story_basic = fit_hybrid_mixed_model_drifting(\n",
    "    data_df=story_trials,\n",
    "    stan_file=\"../our_analysis/driftingWeight_mle.stan\",\n",
    "    output_file=\"story_params_drift.csv\"\n",
    ")\n",
    "\n",
    "abstract_results_df, params, logli_abstract_basic = fit_hybrid_mixed_model_drifting(\n",
    "    data_df=abstract_trials,\n",
    "    stan_file=\"../our_analysis/driftingWeight_mle.stan\",\n",
    "    output_file=\"abstract_params_drift.csv\"\n",
    ")"
   ]
  },
  {
   "cell_type": "code",
   "execution_count": 6,
   "id": "4da36c4a",
   "metadata": {},
   "outputs": [],
   "source": [
    "#store the results in a clean table we can use for the assignment\n",
    "results =[] \n",
    "\n",
    "for df in [story_results_df, abstract_results_df]:\n",
    "    params=df.iloc[0].to_dict()\n",
    "    results.append(params)\n",
    "\n",
    "results[0]['logli']=logli_story_basic\n",
    "results[1]['logli']=logli_abstract_basic\n",
    "\n",
    "results_df = pd.DataFrame(results)\n",
    "results_df.head()\n",
    "## we should probably just save this as a csv here. It has the participant field which we can drop in later formatting.\n",
    "results_df.to_csv(\"hybrid_model_params_driftingW.csv\", index=False)\n"
   ]
  },
  {
   "cell_type": "code",
   "execution_count": null,
   "id": "f0bb17c9",
   "metadata": {},
   "outputs": [],
   "source": [
    "import pandas as pd\n",
    "formatting_df = pd.read_csv(\"/Users/nokada/Documents/CALTECH/sdn_hw2/part3/hybrid_model_params_driftingW.csv\")\n",
    "\n",
    "num_params = 8\n",
    "story_sample_size = 46\n",
    "abstract_sample_size = 48\n",
    "\n",
    "AIC_story = 2*num_params-2*formatting_df['logli'][0]\n",
    "AIC_abstract = 2*num_params-2*formatting_df['logli'][1]\n",
    "\n",
    "BIC_story = 2*num_params * np.log(story_sample_size) - 2 * formatting_df['logli'][0]\n",
    "BIC_abstract = 2*num_params * np.log(abstract_sample_size) - 2 * formatting_df['logli'][1]\n",
    "\n",
    "\n",
    "\n",
    "formatting_df['AIC'] = AIC_story\n",
    "formatting_df['AIC'][1] = AIC_abstract\n",
    "\n",
    "formatting_df['BIC'] = BIC_story\n",
    "formatting_df['BIC'][1] = BIC_abstract"
   ]
  },
  {
   "cell_type": "code",
   "execution_count": 18,
   "id": "0d22ccb7",
   "metadata": {},
   "outputs": [],
   "source": [
    "formatting_df = formatting_df.round(3)\n",
    "formatting_df.to_csv(\"../csvs_formatted/hybrid_model_params_driftingW.csv\", index=False)\n"
   ]
  },
  {
   "cell_type": "code",
   "execution_count": 19,
   "id": "813ff396",
   "metadata": {},
   "outputs": [
    {
     "data": {
      "application/vnd.microsoft.datawrangler.viewer.v0+json": {
       "columns": [
        {
         "name": "index",
         "rawType": "int64",
         "type": "integer"
        },
        {
         "name": "participant",
         "rawType": "int64",
         "type": "integer"
        },
        {
         "name": "condition",
         "rawType": "object",
         "type": "string"
        },
        {
         "name": "alpha1",
         "rawType": "float64",
         "type": "float"
        },
        {
         "name": "alpha2",
         "rawType": "float64",
         "type": "float"
        },
        {
         "name": "lmbd",
         "rawType": "float64",
         "type": "float"
        },
        {
         "name": "beta1",
         "rawType": "float64",
         "type": "float"
        },
        {
         "name": "beta2",
         "rawType": "float64",
         "type": "float"
        },
        {
         "name": "p",
         "rawType": "float64",
         "type": "float"
        },
        {
         "name": "w0",
         "rawType": "float64",
         "type": "float"
        },
        {
         "name": "kappa",
         "rawType": "float64",
         "type": "float"
        },
        {
         "name": "logli",
         "rawType": "float64",
         "type": "float"
        },
        {
         "name": "AIC",
         "rawType": "float64",
         "type": "float"
        },
        {
         "name": "BIC",
         "rawType": "float64",
         "type": "float"
        }
       ],
       "conversionMethod": "pd.DataFrame",
       "ref": "64c022be-2320-408e-9fd0-b770647cf5c2",
       "rows": [
        [
         "0",
         "1",
         "story",
         "0.633",
         "0.804",
         "1.0",
         "3.406",
         "2.108",
         "0.142",
         "0.708",
         "0.051",
         "-7790.76",
         "15597.52",
         "15642.778"
        ],
        [
         "1",
         "5",
         "abstract",
         "0.161",
         "0.497",
         "0.501",
         "5.706",
         "3.008",
         "0.162",
         "0.963",
         "0.0",
         "-7168.28",
         "14352.56",
         "14398.499"
        ]
       ],
       "shape": {
        "columns": 13,
        "rows": 2
       }
      },
      "text/html": [
       "<div>\n",
       "<style scoped>\n",
       "    .dataframe tbody tr th:only-of-type {\n",
       "        vertical-align: middle;\n",
       "    }\n",
       "\n",
       "    .dataframe tbody tr th {\n",
       "        vertical-align: top;\n",
       "    }\n",
       "\n",
       "    .dataframe thead th {\n",
       "        text-align: right;\n",
       "    }\n",
       "</style>\n",
       "<table border=\"1\" class=\"dataframe\">\n",
       "  <thead>\n",
       "    <tr style=\"text-align: right;\">\n",
       "      <th></th>\n",
       "      <th>participant</th>\n",
       "      <th>condition</th>\n",
       "      <th>alpha1</th>\n",
       "      <th>alpha2</th>\n",
       "      <th>lmbd</th>\n",
       "      <th>beta1</th>\n",
       "      <th>beta2</th>\n",
       "      <th>p</th>\n",
       "      <th>w0</th>\n",
       "      <th>kappa</th>\n",
       "      <th>logli</th>\n",
       "      <th>AIC</th>\n",
       "      <th>BIC</th>\n",
       "    </tr>\n",
       "  </thead>\n",
       "  <tbody>\n",
       "    <tr>\n",
       "      <th>0</th>\n",
       "      <td>1</td>\n",
       "      <td>story</td>\n",
       "      <td>0.633</td>\n",
       "      <td>0.804</td>\n",
       "      <td>1.000</td>\n",
       "      <td>3.406</td>\n",
       "      <td>2.108</td>\n",
       "      <td>0.142</td>\n",
       "      <td>0.708</td>\n",
       "      <td>0.051</td>\n",
       "      <td>-7790.76</td>\n",
       "      <td>15597.52</td>\n",
       "      <td>15642.778</td>\n",
       "    </tr>\n",
       "    <tr>\n",
       "      <th>1</th>\n",
       "      <td>5</td>\n",
       "      <td>abstract</td>\n",
       "      <td>0.161</td>\n",
       "      <td>0.497</td>\n",
       "      <td>0.501</td>\n",
       "      <td>5.706</td>\n",
       "      <td>3.008</td>\n",
       "      <td>0.162</td>\n",
       "      <td>0.963</td>\n",
       "      <td>0.000</td>\n",
       "      <td>-7168.28</td>\n",
       "      <td>14352.56</td>\n",
       "      <td>14398.499</td>\n",
       "    </tr>\n",
       "  </tbody>\n",
       "</table>\n",
       "</div>"
      ],
      "text/plain": [
       "   participant condition  alpha1  alpha2   lmbd  beta1  beta2      p     w0  \\\n",
       "0            1     story   0.633   0.804  1.000  3.406  2.108  0.142  0.708   \n",
       "1            5  abstract   0.161   0.497  0.501  5.706  3.008  0.162  0.963   \n",
       "\n",
       "   kappa    logli       AIC        BIC  \n",
       "0  0.051 -7790.76  15597.52  15642.778  \n",
       "1  0.000 -7168.28  14352.56  14398.499  "
      ]
     },
     "execution_count": 19,
     "metadata": {},
     "output_type": "execute_result"
    }
   ],
   "source": [
    "formatting_df.head()"
   ]
  }
 ],
 "metadata": {
  "kernelspec": {
   "display_name": "stan_env",
   "language": "python",
   "name": "python3"
  },
  "language_info": {
   "codemirror_mode": {
    "name": "ipython",
    "version": 3
   },
   "file_extension": ".py",
   "mimetype": "text/x-python",
   "name": "python",
   "nbconvert_exporter": "python",
   "pygments_lexer": "ipython3",
   "version": "3.8.13"
  }
 },
 "nbformat": 4,
 "nbformat_minor": 5
}
