{
 "cells": [
  {
   "cell_type": "code",
   "execution_count": 1,
   "id": "5828647b",
   "metadata": {},
   "outputs": [],
   "source": [
    "#import packages\n",
    "import pandas as pd\n",
    "import os\n",
    "import pandas as pd\n",
    "import numpy as np\n",
    "import matplotlib.pyplot as plt\n",
    "import seaborn as sns"
   ]
  },
  {
   "cell_type": "code",
   "execution_count": null,
   "id": "2d632898",
   "metadata": {},
   "outputs": [],
   "source": [
    "#modify import path\n",
    "import sys\n",
    "sys.path.append('../our_analysis')\n",
    "\n",
    "#import our code\n",
    "from hybrid_mle import fit_hybrid_mixed_model_decayingMF"
   ]
  },
  {
   "cell_type": "code",
   "execution_count": 3,
   "id": "60ee8fd2",
   "metadata": {},
   "outputs": [],
   "source": [
    "#Set WD\n",
    "notebook_dir = os.getcwd()"
   ]
  },
  {
   "cell_type": "code",
   "execution_count": null,
   "id": "b90b6c7c",
   "metadata": {},
   "outputs": [],
   "source": [
    "#load dataset\n",
    "df = pd.read_csv(\"../dataset/all_subjects.csv\") #our dataset\n",
    "# df = pd.read_csv(\"../dataset/beh_noslow.csv\") #i'm fitting to replicate the paper.\n",
    "\n",
    "#Let's remove all of the slow trials for the df\n",
    "df = df[df['slow']==0]\n",
    "# We need to cast the choice data to an int\n",
    "df['choice1'] = df['choice1'].astype(int)\n",
    "df['choice2'] = df['choice2'].astype(int)\n",
    "df['final_state'] = df['final_state'].astype(int)\n",
    "\n",
    "story_trials = df[df[\"condition\"] == \"story\"]\n",
    "abstract_trials=df[df[\"condition\"] == \"abstract\"]"
   ]
  },
  {
   "cell_type": "code",
   "execution_count": null,
   "id": "cbd0ef79",
   "metadata": {},
   "outputs": [],
   "source": [
    "story_results_df, params, logli_story_basic = fit_hybrid_mixed_model_decayingMF(\n",
    "    data_df=story_trials,\n",
    "    stan_file=\"../our_analysis/decaying_mf_weight.stan\",\n",
    "    output_file=\"story_params_decay.csv\"\n",
    ")\n",
    "\n",
    "abstract_results_df, params, logli_abstract_basic = fit_hybrid_mixed_model_decayingMF(\n",
    "    data_df=abstract_trials,\n",
    "    stan_file=\"../our_analysis/decaying_mf_weight.stan\",\n",
    "    output_file=\"abstract_params_decay.csv\"\n",
    ")"
   ]
  },
  {
   "cell_type": "code",
   "execution_count": null,
   "id": "12d815a5",
   "metadata": {},
   "outputs": [],
   "source": [
    "#store the results in a clean table we can use for the assignment\n",
    "results =[] \n",
    "\n",
    "for df in [story_results_df,abstract_results_df]:\n",
    "    params=df.drop(columns='w').iloc[0].to_dict()\n",
    "    params['w_mean'] = df['w'].mean()\n",
    "    params['w_std'] = df['w'].std()\n",
    "    results.append(params)\n",
    "\n",
    "results[0]['logli']=logli_story_basic\n",
    "results[1]['logli']=logli_abstract_basic\n",
    "\n",
    "results_df = pd.DataFrame(results)\n",
    "results_df.head()\n",
    "\n",
    "\n",
    "results_df.to_csv(\"hybrid_model_params_decayingMF.csv\", index=False)\n"
   ]
  },
  {
   "cell_type": "code",
   "execution_count": 8,
   "id": "97a2a36b",
   "metadata": {},
   "outputs": [
    {
     "data": {
      "application/vnd.microsoft.datawrangler.viewer.v0+json": {
       "columns": [
        {
         "name": "index",
         "rawType": "int64",
         "type": "integer"
        },
        {
         "name": "participant",
         "rawType": "int64",
         "type": "integer"
        },
        {
         "name": "condition",
         "rawType": "object",
         "type": "string"
        },
        {
         "name": "alpha1",
         "rawType": "float64",
         "type": "float"
        },
        {
         "name": "alpha2",
         "rawType": "float64",
         "type": "float"
        },
        {
         "name": "lmbd",
         "rawType": "float64",
         "type": "float"
        },
        {
         "name": "beta1",
         "rawType": "float64",
         "type": "float"
        },
        {
         "name": "beta2",
         "rawType": "float64",
         "type": "float"
        },
        {
         "name": "p",
         "rawType": "float64",
         "type": "float"
        },
        {
         "name": "decay_rate",
         "rawType": "float64",
         "type": "float"
        },
        {
         "name": "w_mean",
         "rawType": "float64",
         "type": "float"
        },
        {
         "name": "w_std",
         "rawType": "float64",
         "type": "float"
        },
        {
         "name": "logli",
         "rawType": "float64",
         "type": "float"
        }
       ],
       "conversionMethod": "pd.DataFrame",
       "ref": "a2fd5a5d-a487-4c09-a77d-dd5a738026d0",
       "rows": [
        [
         "0",
         "1",
         "story",
         "0.0289541",
         "0.867799",
         "0.99967",
         "8.61319",
         "1.98531",
         "0.0165565",
         "0.671942",
         "0.43494239869565215",
         "0.3511642940435071",
         "-7439.72"
        ],
        [
         "1",
         "5",
         "abstract",
         "0.353279",
         "0.492359",
         "0.646353",
         "5.6853",
         "3.01351",
         "0.0423212",
         "0.987428",
         "0.5322485499999999",
         "0.272294962705233",
         "-7006.55"
        ]
       ],
       "shape": {
        "columns": 12,
        "rows": 2
       }
      },
      "text/html": [
       "<div>\n",
       "<style scoped>\n",
       "    .dataframe tbody tr th:only-of-type {\n",
       "        vertical-align: middle;\n",
       "    }\n",
       "\n",
       "    .dataframe tbody tr th {\n",
       "        vertical-align: top;\n",
       "    }\n",
       "\n",
       "    .dataframe thead th {\n",
       "        text-align: right;\n",
       "    }\n",
       "</style>\n",
       "<table border=\"1\" class=\"dataframe\">\n",
       "  <thead>\n",
       "    <tr style=\"text-align: right;\">\n",
       "      <th></th>\n",
       "      <th>participant</th>\n",
       "      <th>condition</th>\n",
       "      <th>alpha1</th>\n",
       "      <th>alpha2</th>\n",
       "      <th>lmbd</th>\n",
       "      <th>beta1</th>\n",
       "      <th>beta2</th>\n",
       "      <th>p</th>\n",
       "      <th>decay_rate</th>\n",
       "      <th>w_mean</th>\n",
       "      <th>w_std</th>\n",
       "      <th>logli</th>\n",
       "    </tr>\n",
       "  </thead>\n",
       "  <tbody>\n",
       "    <tr>\n",
       "      <th>0</th>\n",
       "      <td>1</td>\n",
       "      <td>story</td>\n",
       "      <td>0.028954</td>\n",
       "      <td>0.867799</td>\n",
       "      <td>0.999670</td>\n",
       "      <td>8.61319</td>\n",
       "      <td>1.98531</td>\n",
       "      <td>0.016556</td>\n",
       "      <td>0.671942</td>\n",
       "      <td>0.434942</td>\n",
       "      <td>0.351164</td>\n",
       "      <td>-7439.72</td>\n",
       "    </tr>\n",
       "    <tr>\n",
       "      <th>1</th>\n",
       "      <td>5</td>\n",
       "      <td>abstract</td>\n",
       "      <td>0.353279</td>\n",
       "      <td>0.492359</td>\n",
       "      <td>0.646353</td>\n",
       "      <td>5.68530</td>\n",
       "      <td>3.01351</td>\n",
       "      <td>0.042321</td>\n",
       "      <td>0.987428</td>\n",
       "      <td>0.532249</td>\n",
       "      <td>0.272295</td>\n",
       "      <td>-7006.55</td>\n",
       "    </tr>\n",
       "  </tbody>\n",
       "</table>\n",
       "</div>"
      ],
      "text/plain": [
       "   participant condition    alpha1    alpha2      lmbd    beta1    beta2  \\\n",
       "0            1     story  0.028954  0.867799  0.999670  8.61319  1.98531   \n",
       "1            5  abstract  0.353279  0.492359  0.646353  5.68530  3.01351   \n",
       "\n",
       "          p  decay_rate    w_mean     w_std    logli  \n",
       "0  0.016556    0.671942  0.434942  0.351164 -7439.72  \n",
       "1  0.042321    0.987428  0.532249  0.272295 -7006.55  "
      ]
     },
     "execution_count": 8,
     "metadata": {},
     "output_type": "execute_result"
    }
   ],
   "source": [
    "results_df.head()"
   ]
  },
  {
   "cell_type": "markdown",
   "id": "de91d7cc",
   "metadata": {},
   "source": [
    "# BIC & AIC Calc"
   ]
  },
  {
   "cell_type": "code",
   "execution_count": null,
   "id": "83f106da",
   "metadata": {},
   "outputs": [],
   "source": [
    "import pandas as pd\n",
    "formatting_df = pd.read_csv(\"/Users/nokada/Documents/CALTECH/sdn_hw2/part4/hybrid_model_params_decayingMF.csv\")\n",
    "\n",
    "num_params = 8\n",
    "story_sample_size = 46\n",
    "abstract_sample_size = 48\n",
    "\n",
    "AIC_story = 2*num_params-2*formatting_df['logli'][0]\n",
    "AIC_abstract = 2*num_params-2*formatting_df['logli'][1]\n",
    "\n",
    "BIC_story = 2*num_params * np.log(story_sample_size) - 2 * formatting_df['logli'][0]\n",
    "BIC_abstract = 2*num_params * np.log(abstract_sample_size) - 2 * formatting_df['logli'][1]\n",
    "\n",
    "\n",
    "\n",
    "formatting_df['AIC'] = AIC_story\n",
    "formatting_df['AIC'][1] = AIC_abstract\n",
    "\n",
    "formatting_df['BIC'] = BIC_story\n",
    "formatting_df['BIC'][1] = BIC_abstract"
   ]
  },
  {
   "cell_type": "code",
   "execution_count": 12,
   "id": "1fe6eea7",
   "metadata": {},
   "outputs": [],
   "source": [
    "formatting_df = formatting_df.round(3)\n",
    "formatting_df.to_csv(\"../csvs_formatted/hybrid_model_params_decayingMF.csv\", index=False)\n"
   ]
  },
  {
   "cell_type": "code",
   "execution_count": 13,
   "id": "78c7c649",
   "metadata": {},
   "outputs": [
    {
     "data": {
      "application/vnd.microsoft.datawrangler.viewer.v0+json": {
       "columns": [
        {
         "name": "index",
         "rawType": "int64",
         "type": "integer"
        },
        {
         "name": "participant",
         "rawType": "int64",
         "type": "integer"
        },
        {
         "name": "condition",
         "rawType": "object",
         "type": "string"
        },
        {
         "name": "alpha1",
         "rawType": "float64",
         "type": "float"
        },
        {
         "name": "alpha2",
         "rawType": "float64",
         "type": "float"
        },
        {
         "name": "lmbd",
         "rawType": "float64",
         "type": "float"
        },
        {
         "name": "beta1",
         "rawType": "float64",
         "type": "float"
        },
        {
         "name": "beta2",
         "rawType": "float64",
         "type": "float"
        },
        {
         "name": "p",
         "rawType": "float64",
         "type": "float"
        },
        {
         "name": "decay_rate",
         "rawType": "float64",
         "type": "float"
        },
        {
         "name": "w_mean",
         "rawType": "float64",
         "type": "float"
        },
        {
         "name": "w_std",
         "rawType": "float64",
         "type": "float"
        },
        {
         "name": "logli",
         "rawType": "float64",
         "type": "float"
        },
        {
         "name": "AIC",
         "rawType": "float64",
         "type": "float"
        },
        {
         "name": "BIC",
         "rawType": "float64",
         "type": "float"
        }
       ],
       "conversionMethod": "pd.DataFrame",
       "ref": "1589eacf-6dd6-40fc-900c-e4789f58abc3",
       "rows": [
        [
         "0",
         "1",
         "story",
         "0.029",
         "0.868",
         "1.0",
         "8.613",
         "1.985",
         "0.017",
         "0.672",
         "0.435",
         "0.351",
         "-7439.72",
         "14895.44",
         "14940.698"
        ],
        [
         "1",
         "5",
         "abstract",
         "0.353",
         "0.492",
         "0.646",
         "5.685",
         "3.014",
         "0.042",
         "0.987",
         "0.532",
         "0.272",
         "-7006.55",
         "14029.1",
         "14075.039"
        ]
       ],
       "shape": {
        "columns": 14,
        "rows": 2
       }
      },
      "text/html": [
       "<div>\n",
       "<style scoped>\n",
       "    .dataframe tbody tr th:only-of-type {\n",
       "        vertical-align: middle;\n",
       "    }\n",
       "\n",
       "    .dataframe tbody tr th {\n",
       "        vertical-align: top;\n",
       "    }\n",
       "\n",
       "    .dataframe thead th {\n",
       "        text-align: right;\n",
       "    }\n",
       "</style>\n",
       "<table border=\"1\" class=\"dataframe\">\n",
       "  <thead>\n",
       "    <tr style=\"text-align: right;\">\n",
       "      <th></th>\n",
       "      <th>participant</th>\n",
       "      <th>condition</th>\n",
       "      <th>alpha1</th>\n",
       "      <th>alpha2</th>\n",
       "      <th>lmbd</th>\n",
       "      <th>beta1</th>\n",
       "      <th>beta2</th>\n",
       "      <th>p</th>\n",
       "      <th>decay_rate</th>\n",
       "      <th>w_mean</th>\n",
       "      <th>w_std</th>\n",
       "      <th>logli</th>\n",
       "      <th>AIC</th>\n",
       "      <th>BIC</th>\n",
       "    </tr>\n",
       "  </thead>\n",
       "  <tbody>\n",
       "    <tr>\n",
       "      <th>0</th>\n",
       "      <td>1</td>\n",
       "      <td>story</td>\n",
       "      <td>0.029</td>\n",
       "      <td>0.868</td>\n",
       "      <td>1.000</td>\n",
       "      <td>8.613</td>\n",
       "      <td>1.985</td>\n",
       "      <td>0.017</td>\n",
       "      <td>0.672</td>\n",
       "      <td>0.435</td>\n",
       "      <td>0.351</td>\n",
       "      <td>-7439.72</td>\n",
       "      <td>14895.44</td>\n",
       "      <td>14940.698</td>\n",
       "    </tr>\n",
       "    <tr>\n",
       "      <th>1</th>\n",
       "      <td>5</td>\n",
       "      <td>abstract</td>\n",
       "      <td>0.353</td>\n",
       "      <td>0.492</td>\n",
       "      <td>0.646</td>\n",
       "      <td>5.685</td>\n",
       "      <td>3.014</td>\n",
       "      <td>0.042</td>\n",
       "      <td>0.987</td>\n",
       "      <td>0.532</td>\n",
       "      <td>0.272</td>\n",
       "      <td>-7006.55</td>\n",
       "      <td>14029.10</td>\n",
       "      <td>14075.039</td>\n",
       "    </tr>\n",
       "  </tbody>\n",
       "</table>\n",
       "</div>"
      ],
      "text/plain": [
       "   participant condition  alpha1  alpha2   lmbd  beta1  beta2      p  \\\n",
       "0            1     story   0.029   0.868  1.000  8.613  1.985  0.017   \n",
       "1            5  abstract   0.353   0.492  0.646  5.685  3.014  0.042   \n",
       "\n",
       "   decay_rate  w_mean  w_std    logli       AIC        BIC  \n",
       "0       0.672   0.435  0.351 -7439.72  14895.44  14940.698  \n",
       "1       0.987   0.532  0.272 -7006.55  14029.10  14075.039  "
      ]
     },
     "execution_count": 13,
     "metadata": {},
     "output_type": "execute_result"
    }
   ],
   "source": [
    "formatting_df.head()"
   ]
  }
 ],
 "metadata": {
  "kernelspec": {
   "display_name": "stan_env",
   "language": "python",
   "name": "python3"
  },
  "language_info": {
   "codemirror_mode": {
    "name": "ipython",
    "version": 3
   },
   "file_extension": ".py",
   "mimetype": "text/x-python",
   "name": "python",
   "nbconvert_exporter": "python",
   "pygments_lexer": "ipython3",
   "version": "3.8.13"
  }
 },
 "nbformat": 4,
 "nbformat_minor": 5
}
