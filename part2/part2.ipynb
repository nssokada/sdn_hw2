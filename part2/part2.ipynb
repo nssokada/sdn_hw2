{
 "cells": [
  {
   "cell_type": "code",
   "execution_count": 1,
   "id": "31014f92",
   "metadata": {},
   "outputs": [],
   "source": [
    "#import packages\n",
    "import pandas as pd\n",
    "import os\n",
    "import pandas as pd\n",
    "import numpy as np\n",
    "import matplotlib.pyplot as plt\n",
    "import seaborn as sns\n"
   ]
  },
  {
   "cell_type": "code",
   "execution_count": null,
   "id": "366ed83c",
   "metadata": {},
   "outputs": [],
   "source": [
    "#modify import path\n",
    "import sys\n",
    "sys.path.append('../our_analysis')\n",
    "\n",
    "#import our code\n",
    "from hybrid_mle import fit_hybrid_mixed_model, fit_hybrid_mixed_dynamic_model\n"
   ]
  },
  {
   "cell_type": "code",
   "execution_count": 3,
   "id": "ccb6b528",
   "metadata": {},
   "outputs": [],
   "source": [
    "#Set WD\n",
    "notebook_dir = os.getcwd()"
   ]
  },
  {
   "cell_type": "code",
   "execution_count": null,
   "id": "a657e598",
   "metadata": {},
   "outputs": [],
   "source": []
  },
  {
   "cell_type": "code",
   "execution_count": null,
   "id": "11741017",
   "metadata": {},
   "outputs": [],
   "source": [
    "#load dataset\n",
    "# df = pd.read_csv(\"../dataset/all_subjects.csv\") #our dataset\n",
    "df = pd.read_csv(\"../dataset/beh_noslow.csv\") #i'm fitting to replicate the paper.\n",
    "\n",
    "\n",
    "## some notes about using all_subjects:\n",
    "# If you get errors you may need to rename the fields of allsubjects becuase the original paper dataset (beh_noslow.csv) and our dataset (all_subjects) have slightly different capitalizations of headers.\n",
    "# If you get additional errors filter out the NaNs from the df before sending them to the processing function. \n",
    "\n",
    "#MLE takes time the first simple run was quite fast (~10min), but expect longer depending on your CPU and the complexity of the model you're running\n",
    "\n",
    "story_trials = df[df[\"condition\"] == \"story\"]\n",
    "abstract_trials=df[df[\"condition\"] == \"abstract\"]"
   ]
  },
  {
   "cell_type": "markdown",
   "id": "5a9330fc",
   "metadata": {},
   "source": [
    "# Fit Hybrid Model\n",
    "We're currently fitting using the provided stan model. I made modifications to ensure we could just pass dfs instead of raw csvs. \n",
    "\n",
    "We are using a mixed effects approach to estimate the weight allowing it to vary across participants. Not necessary as we could fix all effects (the pset is unclear what they're really asking for here), but this provides more nuance to the analysis. \n",
    "\n",
    "Note we likely won't be very close to the reported table in the paper as estimated individually and then pooled across all participants.\n",
    "\n",
    "We can rerun this to get results closer to the paper by setting the priors in the stan model. Look at the upper/lower parameter bounds in the stan file (sdn_hw2/our_analysis/hybrid_mixed.stan). We want a decent width for the parameter search but we can make them a bit closer to the actual paper. @TODO by anyone: it would be good to check the supplemental to see if they added a note about what the priors were"
   ]
  },
  {
   "cell_type": "code",
   "execution_count": null,
   "id": "aad5fa70",
   "metadata": {},
   "outputs": [],
   "source": [
    "story_results_df, params = fit_hybrid_mixed_model(\n",
    "    data_df=story_trials,\n",
    "    stan_file=\"../our_analysis/hybrid_mixed.stan\",\n",
    "    output_file=\"story_params.csv\"\n",
    ")\n",
    "\n",
    "abstract_results_df, params = fit_hybrid_mixed_model(\n",
    "    data_df=abstract_trials,\n",
    "    stan_file=\"../our_analysis/hybrid_mixed.stan\",\n",
    "    output_file=\"abstract_params.csv\"\n",
    ")"
   ]
  },
  {
   "cell_type": "code",
   "execution_count": 24,
   "id": "6d6903ff",
   "metadata": {},
   "outputs": [],
   "source": [
    "#store the results in a clean table we can use for the assignment\n",
    "results =[] \n",
    "\n",
    "for df in [story_results_df,abstract_results_df]:\n",
    "    params=df.drop(columns='w').iloc[0].to_dict()\n",
    "    params['w_mean'] = df['w'].mean()\n",
    "    params['w_std'] = df['w'].std()\n",
    "    results.append(params)\n",
    "\n",
    "results_df = pd.DataFrame(results)\n",
    "results_df.head()\n",
    "## we should probably just save this as a csv here. It has the participant field which we can drop in later formatting.\n",
    "results_df.to_csv(\"hybrid_model_params.csv\", index=False)"
   ]
  },
  {
   "cell_type": "markdown",
   "id": "14350739",
   "metadata": {},
   "source": [
    "# Let's do some ablation:\n",
    "\n",
    "Here we're going to start fitting with fixed parameters. To do this I added a modified fit function that allows us to prefix certain parameters. This should work to finish the next few parts"
   ]
  },
  {
   "cell_type": "code",
   "execution_count": null,
   "id": "305bbeb6",
   "metadata": {},
   "outputs": [],
   "source": [
    "# PARAM_NAMES = ('alpha1', 'alpha2', 'lmbd', 'beta1', 'beta2', 'p', 'w')\n",
    "\n",
    "\n",
    "## USE THE PARAM NAMES ABOVE. ONLY INPUT THE PARAMS you are FIXING and the value you are fixing it to. \n",
    "fixed_param = {\n",
    "    'lmbd':1\n",
    "}\n",
    "\n",
    "story_results_df, params, logli = fit_hybrid_mixed_dynamic_model(\n",
    "    data_df=story_trials, #note the trial type\n",
    "    stan_file=\"../our_analysis/dynamic_hybrid_mixed.stan\",\n",
    "    output_file=\"story_params.csv\",   ##change the output csv name so you don't overwrite your work\n",
    "    fixed_params = fixed_param,\n",
    "    return_logli = True\n",
    ")\n"
   ]
  },
  {
   "cell_type": "code",
   "execution_count": null,
   "id": "7f4ce0eb",
   "metadata": {},
   "outputs": [],
   "source": []
  }
 ],
 "metadata": {
  "kernelspec": {
   "display_name": "stan_env",
   "language": "python",
   "name": "python3"
  },
  "language_info": {
   "codemirror_mode": {
    "name": "ipython",
    "version": 3
   },
   "file_extension": ".py",
   "mimetype": "text/x-python",
   "name": "python",
   "nbconvert_exporter": "python",
   "pygments_lexer": "ipython3",
   "version": "3.8.13"
  }
 },
 "nbformat": 4,
 "nbformat_minor": 5
}
