{
 "cells": [
  {
   "cell_type": "code",
   "execution_count": 8,
   "id": "31014f92",
   "metadata": {},
   "outputs": [],
   "source": [
    "#import packages\n",
    "import pandas as pd\n",
    "import os\n",
    "import pandas as pd\n",
    "import numpy as np\n",
    "import matplotlib.pyplot as plt\n",
    "import seaborn as sns\n"
   ]
  },
  {
   "cell_type": "code",
   "execution_count": 11,
   "id": "366ed83c",
   "metadata": {},
   "outputs": [],
   "source": [
    "#modify import path\n",
    "import sys\n",
    "sys.path.append('../our_analysis')\n",
    "\n",
    "#import our code\n",
    "from hybrid_mle import fit_hybrid_mixed_model\n"
   ]
  },
  {
   "cell_type": "code",
   "execution_count": 12,
   "id": "ccb6b528",
   "metadata": {},
   "outputs": [],
   "source": [
    "#Set WD\n",
    "notebook_dir = os.getcwd()"
   ]
  },
  {
   "cell_type": "code",
   "execution_count": 15,
   "id": "11741017",
   "metadata": {},
   "outputs": [],
   "source": [
    "#load dataset\n",
    "#df = pd.read_csv(\"../dataset/all_subjects.csv\")\n",
    "df = pd.read_csv(\"../dataset/beh_noslow.csv\")\n",
    "\n",
    "story_trials = df[df[\"condition\"] == \"story\"]\n",
    "abstract_trials=df[df[\"condition\"] == \"abstract\"]"
   ]
  },
  {
   "cell_type": "code",
   "execution_count": null,
   "id": "aad5fa70",
   "metadata": {},
   "outputs": [],
   "source": [
    "story_results_df, params = fit_hybrid_mixed_model(\n",
    "    data_df=story_trials,\n",
    "    stan_file=\"../our_analysis/hybrid_mixed.stan\",\n",
    "    output_file=\"story_params.csv\"\n",
    ")\n",
    "\n",
    "abstract_results_df, params = fit_hybrid_mixed_model(\n",
    "    data_df=abstract_trials,\n",
    "    stan_file=\"../our_analysis/hybrid_mixed.stan\",\n",
    "    output_file=\"abstract_params.csv\"\n",
    ")"
   ]
  },
  {
   "cell_type": "code",
   "execution_count": null,
   "id": "6d6903ff",
   "metadata": {},
   "outputs": [],
   "source": [
    "#store the results in a clean table we can use for the assignment\n",
    "results =[] \n",
    "\n",
    "for df in [story_results_df,abstract_results_df]:\n",
    "    params=df.drop(columns='w').iloc[0].to_dict()\n",
    "    params['w_mean'] = df['w'].mean()\n",
    "    params['w_std'] = df['w'].std()\n",
    "    results.append(params)\n",
    "\n",
    "results_df = pd.DataFrame(results)\n",
    "results_df.head()\n"
   ]
  }
 ],
 "metadata": {
  "kernelspec": {
   "display_name": "stan_env",
   "language": "python",
   "name": "python3"
  },
  "language_info": {
   "codemirror_mode": {
    "name": "ipython",
    "version": 3
   },
   "file_extension": ".py",
   "mimetype": "text/x-python",
   "name": "python",
   "nbconvert_exporter": "python",
   "pygments_lexer": "ipython3",
   "version": "3.8.13"
  }
 },
 "nbformat": 4,
 "nbformat_minor": 5
}
