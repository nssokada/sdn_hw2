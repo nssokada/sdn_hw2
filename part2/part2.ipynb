{
 "cells": [
  {
   "cell_type": "code",
   "execution_count": 1,
   "id": "31014f92",
   "metadata": {},
   "outputs": [],
   "source": [
    "#import packages\n",
    "import pandas as pd\n",
    "import os\n",
    "import pandas as pd\n",
    "import numpy as np\n",
    "import matplotlib.pyplot as plt\n",
    "import seaborn as sns\n"
   ]
  },
  {
   "cell_type": "code",
   "execution_count": 2,
   "id": "366ed83c",
   "metadata": {},
   "outputs": [
    {
     "name": "stderr",
     "output_type": "stream",
     "text": [
      "/opt/anaconda3/envs/stan_env/lib/python3.8/site-packages/tqdm/auto.py:21: TqdmWarning: IProgress not found. Please update jupyter and ipywidgets. See https://ipywidgets.readthedocs.io/en/stable/user_install.html\n",
      "  from .autonotebook import tqdm as notebook_tqdm\n"
     ]
    }
   ],
   "source": [
    "#modify import path\n",
    "import sys\n",
    "sys.path.append('../our_analysis')\n",
    "\n",
    "#import our code\n",
    "from hybrid_mle import fit_hybrid_mixed_model, fit_hybrid_mixed_dynamic_model, fit_hybrid_mixed_fixedAlpha_model, fit_hybrid_mixed_fixedBeta_model\n"
   ]
  },
  {
   "cell_type": "code",
   "execution_count": 3,
   "id": "ccb6b528",
   "metadata": {},
   "outputs": [],
   "source": [
    "#Set WD\n",
    "notebook_dir = os.getcwd()"
   ]
  },
  {
   "cell_type": "code",
   "execution_count": 4,
   "id": "11741017",
   "metadata": {},
   "outputs": [],
   "source": [
    "#load dataset\n",
    "df = pd.read_csv(\"../dataset/all_subjects.csv\") #our dataset\n",
    "# df = pd.read_csv(\"../dataset/beh_noslow.csv\") #i'm fitting to replicate the paper.\n",
    "\n",
    "#Let's remove all of the slow trials for the df\n",
    "df = df[df['slow']==0]\n",
    "# We need to cast the choice data to an int\n",
    "df['choice1'] = df['choice1'].astype(int)\n",
    "df['choice2'] = df['choice2'].astype(int)\n",
    "df['final_state'] = df['final_state'].astype(int)\n",
    "\n",
    "\n",
    "# ## some notes about using all_subjects:\n",
    "# # If you get errors you may need to rename the fields of allsubjects becuase the original paper dataset (beh_noslow.csv) and our dataset (all_subjects) have slightly different capitalizations of headers.\n",
    "# # If you get additional errors filter out the NaNs from the df before sending them to the processing function. \n",
    "\n",
    "# #MLE takes time the first simple run was quite fast (~10min), but expect longer depending on your CPU and the complexity of the model you're running\n",
    "\n",
    "story_trials = df[df[\"condition\"] == \"story\"]\n",
    "abstract_trials=df[df[\"condition\"] == \"abstract\"]"
   ]
  },
  {
   "cell_type": "markdown",
   "id": "5a9330fc",
   "metadata": {},
   "source": [
    "# Fit Hybrid Model\n",
    "We're currently fitting using the provided stan model. I made modifications to ensure we could just pass dfs instead of raw csvs. \n",
    "\n",
    "We are using a mixed effects approach to estimate the weight allowing it to vary across participants. Not necessary as we could fix all effects (the pset is unclear what they're really asking for here), but this provides more nuance to the analysis. \n",
    "\n",
    "Note we likely won't be very close to the reported table in the paper as estimated individually and then pooled across all participants.\n",
    "\n",
    "We can rerun this to get results closer to the paper by setting the priors in the stan model. Look at the upper/lower parameter bounds in the stan file (sdn_hw2/our_analysis/hybrid_mixed.stan). We want a decent width for the parameter search but we can make them a bit closer to the actual paper. @TODO by anyone: it would be good to check the supplemental to see if they added a note about what the priors were"
   ]
  },
  {
   "cell_type": "code",
   "execution_count": null,
   "id": "aad5fa70",
   "metadata": {},
   "outputs": [],
   "source": [
    "story_results_df, params, logli_story_basic = fit_hybrid_mixed_model(\n",
    "    data_df=story_trials,\n",
    "    stan_file=\"../our_analysis/hybrid_mixed.stan\",\n",
    "    output_file=\"story_params.csv\"\n",
    ")\n",
    "\n",
    "abstract_results_df, params, logli_abstract_basic = fit_hybrid_mixed_model(\n",
    "    data_df=abstract_trials,\n",
    "    stan_file=\"../our_analysis/hybrid_mixed.stan\",\n",
    "    output_file=\"abstract_params.csv\"\n",
    ")"
   ]
  },
  {
   "cell_type": "code",
   "execution_count": 27,
   "id": "6d6903ff",
   "metadata": {},
   "outputs": [],
   "source": [
    "#store the results in a clean table we can use for the assignment\n",
    "results =[] \n",
    "\n",
    "for df in [story_results_df,abstract_results_df]:\n",
    "    params=df.drop(columns='w').iloc[0].to_dict()\n",
    "    params['w_mean'] = df['w'].mean()\n",
    "    params['w_std'] = df['w'].std()\n",
    "    results.append(params)\n",
    "\n",
    "results[0]['logli']=logli_story_basic\n",
    "results[1]['logli']=logli_abstract_basic\n",
    "\n",
    "results_df = pd.DataFrame(results)\n",
    "results_df.head()\n",
    "## we should probably just save this as a csv here. It has the participant field which we can drop in later formatting.\n",
    "results_df.to_csv(\"hybrid_model_params_abstract.csv\", index=False)\n",
    "\n"
   ]
  },
  {
   "cell_type": "code",
   "execution_count": 25,
   "id": "7c6368da",
   "metadata": {},
   "outputs": [
    {
     "data": {
      "application/vnd.microsoft.datawrangler.viewer.v0+json": {
       "columns": [
        {
         "name": "index",
         "rawType": "int64",
         "type": "integer"
        },
        {
         "name": "participant",
         "rawType": "int64",
         "type": "integer"
        },
        {
         "name": "condition",
         "rawType": "object",
         "type": "string"
        },
        {
         "name": "alpha1",
         "rawType": "float64",
         "type": "float"
        },
        {
         "name": "alpha2",
         "rawType": "float64",
         "type": "float"
        },
        {
         "name": "lmbd",
         "rawType": "float64",
         "type": "float"
        },
        {
         "name": "beta1",
         "rawType": "float64",
         "type": "float"
        },
        {
         "name": "beta2",
         "rawType": "float64",
         "type": "float"
        },
        {
         "name": "p",
         "rawType": "float64",
         "type": "float"
        },
        {
         "name": "w_mean",
         "rawType": "float64",
         "type": "float"
        },
        {
         "name": "w_std",
         "rawType": "float64",
         "type": "float"
        },
        {
         "name": "logli",
         "rawType": "float64",
         "type": "float"
        }
       ],
       "conversionMethod": "pd.DataFrame",
       "ref": "ebebec16-2547-4032-840b-398212c89909",
       "rows": [
        [
         "0",
         "1",
         "story",
         "0.0100833",
         "0.859748",
         "0.862889",
         "7.93245",
         "2.00154",
         "0.0429031",
         "0.4722244232608696",
         "0.3488672057613306",
         "-7483.01"
        ],
        [
         "1",
         "5",
         "abstract",
         "0.160292",
         "0.497685",
         "0.449943",
         "6.07055",
         "2.99636",
         "0.151726",
         "0.5715078416666667",
         "0.31515512446797533",
         "-7160.51"
        ]
       ],
       "shape": {
        "columns": 11,
        "rows": 2
       }
      },
      "text/html": [
       "<div>\n",
       "<style scoped>\n",
       "    .dataframe tbody tr th:only-of-type {\n",
       "        vertical-align: middle;\n",
       "    }\n",
       "\n",
       "    .dataframe tbody tr th {\n",
       "        vertical-align: top;\n",
       "    }\n",
       "\n",
       "    .dataframe thead th {\n",
       "        text-align: right;\n",
       "    }\n",
       "</style>\n",
       "<table border=\"1\" class=\"dataframe\">\n",
       "  <thead>\n",
       "    <tr style=\"text-align: right;\">\n",
       "      <th></th>\n",
       "      <th>participant</th>\n",
       "      <th>condition</th>\n",
       "      <th>alpha1</th>\n",
       "      <th>alpha2</th>\n",
       "      <th>lmbd</th>\n",
       "      <th>beta1</th>\n",
       "      <th>beta2</th>\n",
       "      <th>p</th>\n",
       "      <th>w_mean</th>\n",
       "      <th>w_std</th>\n",
       "      <th>logli</th>\n",
       "    </tr>\n",
       "  </thead>\n",
       "  <tbody>\n",
       "    <tr>\n",
       "      <th>0</th>\n",
       "      <td>1</td>\n",
       "      <td>story</td>\n",
       "      <td>0.010083</td>\n",
       "      <td>0.859748</td>\n",
       "      <td>0.862889</td>\n",
       "      <td>7.93245</td>\n",
       "      <td>2.00154</td>\n",
       "      <td>0.042903</td>\n",
       "      <td>0.472224</td>\n",
       "      <td>0.348867</td>\n",
       "      <td>-7483.01</td>\n",
       "    </tr>\n",
       "    <tr>\n",
       "      <th>1</th>\n",
       "      <td>5</td>\n",
       "      <td>abstract</td>\n",
       "      <td>0.160292</td>\n",
       "      <td>0.497685</td>\n",
       "      <td>0.449943</td>\n",
       "      <td>6.07055</td>\n",
       "      <td>2.99636</td>\n",
       "      <td>0.151726</td>\n",
       "      <td>0.571508</td>\n",
       "      <td>0.315155</td>\n",
       "      <td>-7160.51</td>\n",
       "    </tr>\n",
       "  </tbody>\n",
       "</table>\n",
       "</div>"
      ],
      "text/plain": [
       "   participant condition    alpha1    alpha2      lmbd    beta1    beta2  \\\n",
       "0            1     story  0.010083  0.859748  0.862889  7.93245  2.00154   \n",
       "1            5  abstract  0.160292  0.497685  0.449943  6.07055  2.99636   \n",
       "\n",
       "          p    w_mean     w_std    logli  \n",
       "0  0.042903  0.472224  0.348867 -7483.01  \n",
       "1  0.151726  0.571508  0.315155 -7160.51  "
      ]
     },
     "execution_count": 25,
     "metadata": {},
     "output_type": "execute_result"
    }
   ],
   "source": [
    "results_df.head()\n"
   ]
  },
  {
   "cell_type": "markdown",
   "id": "14350739",
   "metadata": {},
   "source": [
    "# Let's do some ablation:\n",
    "\n",
    "Here we're going to start fitting with fixed parameters. To do this I added a modified fit function that allows us to prefix certain parameters. This should work to finish the next few parts"
   ]
  },
  {
   "cell_type": "code",
   "execution_count": null,
   "id": "305bbeb6",
   "metadata": {},
   "outputs": [],
   "source": [
    "# PARAM_NAMES = ('alpha1', 'alpha2', 'lmbd', 'beta1', 'beta2', 'p', 'w')\n",
    "\n",
    "\n",
    "## USE THE PARAM NAMES ABOVE. ONLY INPUT THE PARAMS you are FIXING and the value you are fixing it to. \n",
    "fixed_param = {\n",
    "    'lmbd':0.99\n",
    "}\n",
    "\n",
    "story_results_df, params, logli = fit_hybrid_mixed_dynamic_model(\n",
    "    data_df=story_trials, #note the trial type\n",
    "    stan_file=\"../our_analysis/dynamic_hybrid_mixed.stan\",\n",
    "    output_file=\"story_params_p0.csv\",   ##change the output csv name so you don't overwrite your work\n",
    "    fixed_params = fixed_param,\n",
    "    return_logli = True\n",
    ")\n"
   ]
  },
  {
   "cell_type": "markdown",
   "id": "2b227ec4",
   "metadata": {},
   "source": [
    "# Fixing P"
   ]
  },
  {
   "cell_type": "code",
   "execution_count": null,
   "id": "e235bf0a",
   "metadata": {},
   "outputs": [],
   "source": [
    "# PARAM_NAMES = ('alpha1', 'alpha2', 'lmbd', 'beta1', 'beta2', 'p', 'w')\n",
    "\n",
    "\n",
    "## USE THE PARAM NAMES ABOVE. ONLY INPUT THE PARAMS you are FIXING and the value you are fixing it to. \n",
    "fixed_param = {\n",
    "    'p':0\n",
    "}\n",
    "\n",
    "story_results_df, params, logli_story = fit_hybrid_mixed_dynamic_model(\n",
    "    data_df=story_trials, #note the trial type\n",
    "    stan_file=\"../our_analysis/dynamic_hybrid_mixed.stan\",\n",
    "    output_file=\"story_params_p0.csv\",   ##change the output csv name so you don't overwrite your work\n",
    "    fixed_params = fixed_param,\n",
    "    return_logli = True\n",
    ")\n",
    "\n",
    "abstract_results_df, params, logli_abstract = fit_hybrid_mixed_dynamic_model(\n",
    "    data_df=abstract_trials, #note the trial type\n",
    "    stan_file=\"../our_analysis/dynamic_hybrid_mixed.stan\",\n",
    "    output_file=\"abstract_params_p0.csv\",   ##change the output csv name so you don't overwrite your work\n",
    "    fixed_params = fixed_param,\n",
    "    return_logli = True\n",
    ")\n"
   ]
  },
  {
   "cell_type": "code",
   "execution_count": 22,
   "id": "7f4ce0eb",
   "metadata": {},
   "outputs": [
    {
     "data": {
      "text/html": [
       "<div>\n",
       "<style scoped>\n",
       "    .dataframe tbody tr th:only-of-type {\n",
       "        vertical-align: middle;\n",
       "    }\n",
       "\n",
       "    .dataframe tbody tr th {\n",
       "        vertical-align: top;\n",
       "    }\n",
       "\n",
       "    .dataframe thead th {\n",
       "        text-align: right;\n",
       "    }\n",
       "</style>\n",
       "<table border=\"1\" class=\"dataframe\">\n",
       "  <thead>\n",
       "    <tr style=\"text-align: right;\">\n",
       "      <th></th>\n",
       "      <th>participant</th>\n",
       "      <th>condition</th>\n",
       "      <th>alpha1</th>\n",
       "      <th>alpha2</th>\n",
       "      <th>lmbd</th>\n",
       "      <th>beta1</th>\n",
       "      <th>beta2</th>\n",
       "      <th>p</th>\n",
       "      <th>w</th>\n",
       "    </tr>\n",
       "  </thead>\n",
       "  <tbody>\n",
       "    <tr>\n",
       "      <th>0</th>\n",
       "      <td>1</td>\n",
       "      <td>story</td>\n",
       "      <td>0.011795</td>\n",
       "      <td>0.841689</td>\n",
       "      <td>0.79269</td>\n",
       "      <td>8.72079</td>\n",
       "      <td>2.03577</td>\n",
       "      <td>0</td>\n",
       "      <td>0.999942</td>\n",
       "    </tr>\n",
       "    <tr>\n",
       "      <th>1</th>\n",
       "      <td>2</td>\n",
       "      <td>story</td>\n",
       "      <td>0.011795</td>\n",
       "      <td>0.841689</td>\n",
       "      <td>0.79269</td>\n",
       "      <td>8.72079</td>\n",
       "      <td>2.03577</td>\n",
       "      <td>0</td>\n",
       "      <td>0.357561</td>\n",
       "    </tr>\n",
       "    <tr>\n",
       "      <th>2</th>\n",
       "      <td>3</td>\n",
       "      <td>story</td>\n",
       "      <td>0.011795</td>\n",
       "      <td>0.841689</td>\n",
       "      <td>0.79269</td>\n",
       "      <td>8.72079</td>\n",
       "      <td>2.03577</td>\n",
       "      <td>0</td>\n",
       "      <td>0.999364</td>\n",
       "    </tr>\n",
       "    <tr>\n",
       "      <th>3</th>\n",
       "      <td>7</td>\n",
       "      <td>story</td>\n",
       "      <td>0.011795</td>\n",
       "      <td>0.841689</td>\n",
       "      <td>0.79269</td>\n",
       "      <td>8.72079</td>\n",
       "      <td>2.03577</td>\n",
       "      <td>0</td>\n",
       "      <td>0.194911</td>\n",
       "    </tr>\n",
       "    <tr>\n",
       "      <th>4</th>\n",
       "      <td>10</td>\n",
       "      <td>story</td>\n",
       "      <td>0.011795</td>\n",
       "      <td>0.841689</td>\n",
       "      <td>0.79269</td>\n",
       "      <td>8.72079</td>\n",
       "      <td>2.03577</td>\n",
       "      <td>0</td>\n",
       "      <td>0.510715</td>\n",
       "    </tr>\n",
       "  </tbody>\n",
       "</table>\n",
       "</div>"
      ],
      "text/plain": [
       "   participant condition    alpha1    alpha2     lmbd    beta1    beta2  p  \\\n",
       "0            1     story  0.011795  0.841689  0.79269  8.72079  2.03577  0   \n",
       "1            2     story  0.011795  0.841689  0.79269  8.72079  2.03577  0   \n",
       "2            3     story  0.011795  0.841689  0.79269  8.72079  2.03577  0   \n",
       "3            7     story  0.011795  0.841689  0.79269  8.72079  2.03577  0   \n",
       "4           10     story  0.011795  0.841689  0.79269  8.72079  2.03577  0   \n",
       "\n",
       "          w  \n",
       "0  0.999942  \n",
       "1  0.357561  \n",
       "2  0.999364  \n",
       "3  0.194911  \n",
       "4  0.510715  "
      ]
     },
     "execution_count": 22,
     "metadata": {},
     "output_type": "execute_result"
    }
   ],
   "source": [
    "story_results_df.head()\n",
    "## You should save these as a csv. Snag the logli from above as well!"
   ]
  },
  {
   "cell_type": "code",
   "execution_count": 23,
   "id": "87d65287",
   "metadata": {},
   "outputs": [
    {
     "data": {
      "text/html": [
       "<div>\n",
       "<style scoped>\n",
       "    .dataframe tbody tr th:only-of-type {\n",
       "        vertical-align: middle;\n",
       "    }\n",
       "\n",
       "    .dataframe tbody tr th {\n",
       "        vertical-align: top;\n",
       "    }\n",
       "\n",
       "    .dataframe thead th {\n",
       "        text-align: right;\n",
       "    }\n",
       "</style>\n",
       "<table border=\"1\" class=\"dataframe\">\n",
       "  <thead>\n",
       "    <tr style=\"text-align: right;\">\n",
       "      <th></th>\n",
       "      <th>participant</th>\n",
       "      <th>condition</th>\n",
       "      <th>alpha1</th>\n",
       "      <th>alpha2</th>\n",
       "      <th>lmbd</th>\n",
       "      <th>beta1</th>\n",
       "      <th>beta2</th>\n",
       "      <th>p</th>\n",
       "      <th>w</th>\n",
       "    </tr>\n",
       "  </thead>\n",
       "  <tbody>\n",
       "    <tr>\n",
       "      <th>0</th>\n",
       "      <td>5</td>\n",
       "      <td>abstract</td>\n",
       "      <td>0.165608</td>\n",
       "      <td>0.45782</td>\n",
       "      <td>0.449007</td>\n",
       "      <td>8.32262</td>\n",
       "      <td>3.12165</td>\n",
       "      <td>0</td>\n",
       "      <td>0.999995</td>\n",
       "    </tr>\n",
       "    <tr>\n",
       "      <th>1</th>\n",
       "      <td>6</td>\n",
       "      <td>abstract</td>\n",
       "      <td>0.165608</td>\n",
       "      <td>0.45782</td>\n",
       "      <td>0.449007</td>\n",
       "      <td>8.32262</td>\n",
       "      <td>3.12165</td>\n",
       "      <td>0</td>\n",
       "      <td>0.000426</td>\n",
       "    </tr>\n",
       "    <tr>\n",
       "      <th>2</th>\n",
       "      <td>8</td>\n",
       "      <td>abstract</td>\n",
       "      <td>0.165608</td>\n",
       "      <td>0.45782</td>\n",
       "      <td>0.449007</td>\n",
       "      <td>8.32262</td>\n",
       "      <td>3.12165</td>\n",
       "      <td>0</td>\n",
       "      <td>0.999987</td>\n",
       "    </tr>\n",
       "    <tr>\n",
       "      <th>3</th>\n",
       "      <td>9</td>\n",
       "      <td>abstract</td>\n",
       "      <td>0.165608</td>\n",
       "      <td>0.45782</td>\n",
       "      <td>0.449007</td>\n",
       "      <td>8.32262</td>\n",
       "      <td>3.12165</td>\n",
       "      <td>0</td>\n",
       "      <td>0.375395</td>\n",
       "    </tr>\n",
       "    <tr>\n",
       "      <th>4</th>\n",
       "      <td>11</td>\n",
       "      <td>abstract</td>\n",
       "      <td>0.165608</td>\n",
       "      <td>0.45782</td>\n",
       "      <td>0.449007</td>\n",
       "      <td>8.32262</td>\n",
       "      <td>3.12165</td>\n",
       "      <td>0</td>\n",
       "      <td>0.403804</td>\n",
       "    </tr>\n",
       "  </tbody>\n",
       "</table>\n",
       "</div>"
      ],
      "text/plain": [
       "   participant condition    alpha1   alpha2      lmbd    beta1    beta2  p  \\\n",
       "0            5  abstract  0.165608  0.45782  0.449007  8.32262  3.12165  0   \n",
       "1            6  abstract  0.165608  0.45782  0.449007  8.32262  3.12165  0   \n",
       "2            8  abstract  0.165608  0.45782  0.449007  8.32262  3.12165  0   \n",
       "3            9  abstract  0.165608  0.45782  0.449007  8.32262  3.12165  0   \n",
       "4           11  abstract  0.165608  0.45782  0.449007  8.32262  3.12165  0   \n",
       "\n",
       "          w  \n",
       "0  0.999995  \n",
       "1  0.000426  \n",
       "2  0.999987  \n",
       "3  0.375395  \n",
       "4  0.403804  "
      ]
     },
     "execution_count": 23,
     "metadata": {},
     "output_type": "execute_result"
    }
   ],
   "source": [
    "abstract_results_df.head()"
   ]
  },
  {
   "cell_type": "code",
   "execution_count": 24,
   "id": "4a89638a",
   "metadata": {},
   "outputs": [
    {
     "name": "stdout",
     "output_type": "stream",
     "text": [
      "-7548.79 -7617.97\n"
     ]
    }
   ],
   "source": [
    "#store the results in a clean table we can use for the assignment\n",
    "results =[] \n",
    "\n",
    "for df in [story_results_df,abstract_results_df]:\n",
    "    params=df.drop(columns='w').iloc[0].to_dict()\n",
    "    params['w_mean'] = df['w'].mean()\n",
    "    params['w_std'] = df['w'].std()\n",
    "    results.append(params)\n",
    "\n",
    "results_df = pd.DataFrame(results)\n",
    "results_df.head()\n",
    "## we should probably just save this as a csv here. It has the participant field which we can drop in later formatting.\n",
    "results_df.to_csv(\"hybrid_model_params_fix_p0.csv\", index=False)\n",
    "\n",
    "print(logli_story, logli_abstract)"
   ]
  },
  {
   "cell_type": "markdown",
   "id": "ff446672",
   "metadata": {},
   "source": [
    "# Setting Alpha = Alpha, and Beta=Beta"
   ]
  },
  {
   "cell_type": "code",
   "execution_count": null,
   "id": "0fae3dbc",
   "metadata": {},
   "outputs": [],
   "source": [
    "_alphafix_story_results_df, params, logli = fit_hybrid_mixed_fixedAlpha_model(\n",
    "    data_df=story_trials,\n",
    "    stan_file=\"../our_analysis/equalLearning_mle.stan\",\n",
    "    output_file=\"story_params_fix_alpha.csv\"\n",
    ")\n",
    "\n",
    "# need to return the logli as well"
   ]
  }
 ],
 "metadata": {
  "kernelspec": {
   "display_name": "stan_env",
   "language": "python",
   "name": "python3"
  },
  "language_info": {
   "codemirror_mode": {
    "name": "ipython",
    "version": 3
   },
   "file_extension": ".py",
   "mimetype": "text/x-python",
   "name": "python",
   "nbconvert_exporter": "python",
   "pygments_lexer": "ipython3",
   "version": "3.8.13"
  }
 },
 "nbformat": 4,
 "nbformat_minor": 5
}
